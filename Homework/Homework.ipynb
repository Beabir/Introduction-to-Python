{
 "cells": [
  {
   "cell_type": "markdown",
   "metadata": {},
   "source": [
    "# Homework\n",
    "\n",
    "### Exercise 1\n",
    "\n",
    "1. Read the text in a multiline string from the *Haikus.txt* file.\n",
    "2. Use string methods or regular expressions to write a function, which returns those rows of the input text `t`, which contain the string `s`.\n",
    "3. Modify the function in such a way that instead of looking for one string `s`, you allow for an infinity of strings `s_1`,`s_2`,... that you are looking for. The function should return all the lines, that match any of the specified strings.\n",
    "4. Create a dictionary containing the **title**, **translator** and **text** of each haitaku.\n",
    "5. Write the titles of the haikus into a new text file *HaikuTitles.txt*."
   ]
  },
  {
   "cell_type": "markdown",
   "metadata": {},
   "source": [
    "### Exercise 2"
   ]
  }
 ],
 "metadata": {
  "kernelspec": {
   "display_name": "Python 3",
   "language": "python",
   "name": "python3"
  },
  "language_info": {
   "codemirror_mode": {
    "name": "ipython",
    "version": 3
   },
   "file_extension": ".py",
   "mimetype": "text/x-python",
   "name": "python",
   "nbconvert_exporter": "python",
   "pygments_lexer": "ipython3",
   "version": "3.6.10"
  }
 },
 "nbformat": 4,
 "nbformat_minor": 4
}
